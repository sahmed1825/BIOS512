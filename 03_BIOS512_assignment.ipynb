{
 "cells": [
  {
   "cell_type": "markdown",
   "id": "e9216b63-c18a-4c9b-beff-4b6b2e1b6964",
   "metadata": {},
   "source": [
    "# BIOS512 Assignment #3"
   ]
  },
  {
   "cell_type": "markdown",
   "id": "4403015e-d27f-473c-8720-088ac6db57c9",
   "metadata": {},
   "source": [
    "Import the 📈Tidyverse into your `R` session"
   ]
  },
  {
   "cell_type": "code",
   "execution_count": 1,
   "id": "2cb997c6-b57c-4198-aa5c-8be897467c7c",
   "metadata": {},
   "outputs": [
    {
     "name": "stderr",
     "output_type": "stream",
     "text": [
      "── \u001b[1mAttaching core tidyverse packages\u001b[22m ──────────────────────── tidyverse 2.0.0 ──\n",
      "\u001b[32m✔\u001b[39m \u001b[34mdplyr    \u001b[39m 1.1.4     \u001b[32m✔\u001b[39m \u001b[34mreadr    \u001b[39m 2.1.5\n",
      "\u001b[32m✔\u001b[39m \u001b[34mforcats  \u001b[39m 1.0.0     \u001b[32m✔\u001b[39m \u001b[34mstringr  \u001b[39m 1.5.1\n",
      "\u001b[32m✔\u001b[39m \u001b[34mggplot2  \u001b[39m 3.5.1     \u001b[32m✔\u001b[39m \u001b[34mtibble   \u001b[39m 3.2.1\n",
      "\u001b[32m✔\u001b[39m \u001b[34mlubridate\u001b[39m 1.9.3     \u001b[32m✔\u001b[39m \u001b[34mtidyr    \u001b[39m 1.3.1\n",
      "\u001b[32m✔\u001b[39m \u001b[34mpurrr    \u001b[39m 1.0.2     \n",
      "── \u001b[1mConflicts\u001b[22m ────────────────────────────────────────── tidyverse_conflicts() ──\n",
      "\u001b[31m✖\u001b[39m \u001b[34mdplyr\u001b[39m::\u001b[32mfilter()\u001b[39m masks \u001b[34mstats\u001b[39m::filter()\n",
      "\u001b[31m✖\u001b[39m \u001b[34mdplyr\u001b[39m::\u001b[32mlag()\u001b[39m    masks \u001b[34mstats\u001b[39m::lag()\n",
      "\u001b[36mℹ\u001b[39m Use the conflicted package (\u001b[3m\u001b[34m<http://conflicted.r-lib.org/>\u001b[39m\u001b[23m) to force all conflicts to become errors\n"
     ]
    }
   ],
   "source": [
    "library('tidyverse')"
   ]
  },
  {
   "cell_type": "markdown",
   "id": "47ccf7f6-01c6-46b4-94a1-f8dcd8ef8377",
   "metadata": {},
   "source": [
    "In this assignment we'll be using data from the [TidyTuesday Project](https://github.com/rfordatascience/tidytuesday). Specifically, we'll investigate vaccination rates at US schools. A `CSV` file of the data is located at:  \n",
    "\n",
    "[https://github.com/rfordatascience/tidytuesday/blob/master/data/2020/2020-02-25/measles.csv](https://github.com/rfordatascience/tidytuesday/blob/master/data/2020/2020-02-25/measles.csv)\n",
    "\n",
    "Get the \"raw\" data URL and import it into your `R` session using `read_csv`. Remember to capture the data under a variable name of your choosing!"
   ]
  },
  {
   "cell_type": "code",
   "execution_count": 2,
   "id": "8de37571-29da-4393-b1eb-ca13fcd70fed",
   "metadata": {},
   "outputs": [
    {
     "name": "stderr",
     "output_type": "stream",
     "text": [
      "\u001b[1mRows: \u001b[22m\u001b[34m66113\u001b[39m \u001b[1mColumns: \u001b[22m\u001b[34m16\u001b[39m\n",
      "\u001b[36m──\u001b[39m \u001b[1mColumn specification\u001b[22m \u001b[36m────────────────────────────────────────────────────────\u001b[39m\n",
      "\u001b[1mDelimiter:\u001b[22m \",\"\n",
      "\u001b[31mchr\u001b[39m (6): state, year, name, type, city, county\n",
      "\u001b[32mdbl\u001b[39m (8): index, enroll, mmr, overall, xmed, xper, lat, lng\n",
      "\u001b[33mlgl\u001b[39m (2): district, xrel\n",
      "\n",
      "\u001b[36mℹ\u001b[39m Use `spec()` to retrieve the full column specification for this data.\n",
      "\u001b[36mℹ\u001b[39m Specify the column types or set `show_col_types = FALSE` to quiet this message.\n"
     ]
    },
    {
     "data": {
      "text/html": [
       "<table class=\"dataframe\">\n",
       "<caption>A tibble: 6 × 16</caption>\n",
       "<thead>\n",
       "\t<tr><th scope=col>index</th><th scope=col>state</th><th scope=col>year</th><th scope=col>name</th><th scope=col>type</th><th scope=col>city</th><th scope=col>county</th><th scope=col>district</th><th scope=col>enroll</th><th scope=col>mmr</th><th scope=col>overall</th><th scope=col>xrel</th><th scope=col>xmed</th><th scope=col>xper</th><th scope=col>lat</th><th scope=col>lng</th></tr>\n",
       "\t<tr><th scope=col>&lt;dbl&gt;</th><th scope=col>&lt;chr&gt;</th><th scope=col>&lt;chr&gt;</th><th scope=col>&lt;chr&gt;</th><th scope=col>&lt;chr&gt;</th><th scope=col>&lt;chr&gt;</th><th scope=col>&lt;chr&gt;</th><th scope=col>&lt;lgl&gt;</th><th scope=col>&lt;dbl&gt;</th><th scope=col>&lt;dbl&gt;</th><th scope=col>&lt;dbl&gt;</th><th scope=col>&lt;lgl&gt;</th><th scope=col>&lt;dbl&gt;</th><th scope=col>&lt;dbl&gt;</th><th scope=col>&lt;dbl&gt;</th><th scope=col>&lt;dbl&gt;</th></tr>\n",
       "</thead>\n",
       "<tbody>\n",
       "\t<tr><td>1</td><td>Arizona</td><td>2018-19</td><td>A J Mitchell Elementary                 </td><td>Public </td><td>Nogales</td><td>Santa Cruz</td><td>NA</td><td>51</td><td>100</td><td>-1</td><td>NA</td><td>  NA</td><td>  NA</td><td>31.34782</td><td>-110.9380</td></tr>\n",
       "\t<tr><td>2</td><td>Arizona</td><td>2018-19</td><td>Academy Del Sol                         </td><td>Charter</td><td>Tucson </td><td>Pima      </td><td>NA</td><td>22</td><td>100</td><td>-1</td><td>NA</td><td>  NA</td><td>  NA</td><td>32.22192</td><td>-110.8961</td></tr>\n",
       "\t<tr><td>3</td><td>Arizona</td><td>2018-19</td><td>Academy Del Sol - Hope                  </td><td>Charter</td><td>Tucson </td><td>Pima      </td><td>NA</td><td>85</td><td>100</td><td>-1</td><td>NA</td><td>  NA</td><td>  NA</td><td>32.13049</td><td>-111.1170</td></tr>\n",
       "\t<tr><td>4</td><td>Arizona</td><td>2018-19</td><td>Academy Of Mathematics And Science South</td><td>Charter</td><td>Phoenix</td><td>Maricopa  </td><td>NA</td><td>60</td><td>100</td><td>-1</td><td>NA</td><td>  NA</td><td>  NA</td><td>33.48545</td><td>-112.1306</td></tr>\n",
       "\t<tr><td>5</td><td>Arizona</td><td>2018-19</td><td>Acclaim Academy                         </td><td>Charter</td><td>Phoenix</td><td>Maricopa  </td><td>NA</td><td>43</td><td>100</td><td>-1</td><td>NA</td><td>2.33</td><td>2.33</td><td>33.49562</td><td>-112.2247</td></tr>\n",
       "\t<tr><td>6</td><td>Arizona</td><td>2018-19</td><td>Alfred F Garcia                         </td><td>Public </td><td>Phoenix</td><td>Maricopa  </td><td>NA</td><td>36</td><td>100</td><td>-1</td><td>NA</td><td>  NA</td><td>  NA</td><td>33.43532</td><td>-112.1168</td></tr>\n",
       "</tbody>\n",
       "</table>\n"
      ],
      "text/latex": [
       "A tibble: 6 × 16\n",
       "\\begin{tabular}{llllllllllllllll}\n",
       " index & state & year & name & type & city & county & district & enroll & mmr & overall & xrel & xmed & xper & lat & lng\\\\\n",
       " <dbl> & <chr> & <chr> & <chr> & <chr> & <chr> & <chr> & <lgl> & <dbl> & <dbl> & <dbl> & <lgl> & <dbl> & <dbl> & <dbl> & <dbl>\\\\\n",
       "\\hline\n",
       "\t 1 & Arizona & 2018-19 & A J Mitchell Elementary                  & Public  & Nogales & Santa Cruz & NA & 51 & 100 & -1 & NA &   NA &   NA & 31.34782 & -110.9380\\\\\n",
       "\t 2 & Arizona & 2018-19 & Academy Del Sol                          & Charter & Tucson  & Pima       & NA & 22 & 100 & -1 & NA &   NA &   NA & 32.22192 & -110.8961\\\\\n",
       "\t 3 & Arizona & 2018-19 & Academy Del Sol - Hope                   & Charter & Tucson  & Pima       & NA & 85 & 100 & -1 & NA &   NA &   NA & 32.13049 & -111.1170\\\\\n",
       "\t 4 & Arizona & 2018-19 & Academy Of Mathematics And Science South & Charter & Phoenix & Maricopa   & NA & 60 & 100 & -1 & NA &   NA &   NA & 33.48545 & -112.1306\\\\\n",
       "\t 5 & Arizona & 2018-19 & Acclaim Academy                          & Charter & Phoenix & Maricopa   & NA & 43 & 100 & -1 & NA & 2.33 & 2.33 & 33.49562 & -112.2247\\\\\n",
       "\t 6 & Arizona & 2018-19 & Alfred F Garcia                          & Public  & Phoenix & Maricopa   & NA & 36 & 100 & -1 & NA &   NA &   NA & 33.43532 & -112.1168\\\\\n",
       "\\end{tabular}\n"
      ],
      "text/markdown": [
       "\n",
       "A tibble: 6 × 16\n",
       "\n",
       "| index &lt;dbl&gt; | state &lt;chr&gt; | year &lt;chr&gt; | name &lt;chr&gt; | type &lt;chr&gt; | city &lt;chr&gt; | county &lt;chr&gt; | district &lt;lgl&gt; | enroll &lt;dbl&gt; | mmr &lt;dbl&gt; | overall &lt;dbl&gt; | xrel &lt;lgl&gt; | xmed &lt;dbl&gt; | xper &lt;dbl&gt; | lat &lt;dbl&gt; | lng &lt;dbl&gt; |\n",
       "|---|---|---|---|---|---|---|---|---|---|---|---|---|---|---|---|\n",
       "| 1 | Arizona | 2018-19 | A J Mitchell Elementary                  | Public  | Nogales | Santa Cruz | NA | 51 | 100 | -1 | NA |   NA |   NA | 31.34782 | -110.9380 |\n",
       "| 2 | Arizona | 2018-19 | Academy Del Sol                          | Charter | Tucson  | Pima       | NA | 22 | 100 | -1 | NA |   NA |   NA | 32.22192 | -110.8961 |\n",
       "| 3 | Arizona | 2018-19 | Academy Del Sol - Hope                   | Charter | Tucson  | Pima       | NA | 85 | 100 | -1 | NA |   NA |   NA | 32.13049 | -111.1170 |\n",
       "| 4 | Arizona | 2018-19 | Academy Of Mathematics And Science South | Charter | Phoenix | Maricopa   | NA | 60 | 100 | -1 | NA |   NA |   NA | 33.48545 | -112.1306 |\n",
       "| 5 | Arizona | 2018-19 | Acclaim Academy                          | Charter | Phoenix | Maricopa   | NA | 43 | 100 | -1 | NA | 2.33 | 2.33 | 33.49562 | -112.2247 |\n",
       "| 6 | Arizona | 2018-19 | Alfred F Garcia                          | Public  | Phoenix | Maricopa   | NA | 36 | 100 | -1 | NA |   NA |   NA | 33.43532 | -112.1168 |\n",
       "\n"
      ],
      "text/plain": [
       "  index state   year    name                                     type   \n",
       "1 1     Arizona 2018-19 A J Mitchell Elementary                  Public \n",
       "2 2     Arizona 2018-19 Academy Del Sol                          Charter\n",
       "3 3     Arizona 2018-19 Academy Del Sol - Hope                   Charter\n",
       "4 4     Arizona 2018-19 Academy Of Mathematics And Science South Charter\n",
       "5 5     Arizona 2018-19 Acclaim Academy                          Charter\n",
       "6 6     Arizona 2018-19 Alfred F Garcia                          Public \n",
       "  city    county     district enroll mmr overall xrel xmed xper lat     \n",
       "1 Nogales Santa Cruz NA       51     100 -1      NA     NA   NA 31.34782\n",
       "2 Tucson  Pima       NA       22     100 -1      NA     NA   NA 32.22192\n",
       "3 Tucson  Pima       NA       85     100 -1      NA     NA   NA 32.13049\n",
       "4 Phoenix Maricopa   NA       60     100 -1      NA     NA   NA 33.48545\n",
       "5 Phoenix Maricopa   NA       43     100 -1      NA   2.33 2.33 33.49562\n",
       "6 Phoenix Maricopa   NA       36     100 -1      NA     NA   NA 33.43532\n",
       "  lng      \n",
       "1 -110.9380\n",
       "2 -110.8961\n",
       "3 -111.1170\n",
       "4 -112.1306\n",
       "5 -112.2247\n",
       "6 -112.1168"
      ]
     },
     "metadata": {},
     "output_type": "display_data"
    }
   ],
   "source": [
    "data_url = 'https://raw.githubusercontent.com/rfordatascience/tidytuesday/refs/heads/master/data/2020/2020-02-25/measles.csv'\n",
    "measles = read_csv(data_url)\n",
    "#read.csv for no message\n",
    "measles |> head()"
   ]
  },
  {
   "cell_type": "markdown",
   "id": "feb89cec-8cda-457d-95cf-89dbfa932ab4",
   "metadata": {},
   "source": [
    "The `mmr` column has holds 🤒 measles, mumps, rubella 🤒 vaccination rates for students in each respective school. **If the `mmr` value is not available for a school the `mmr` value is set to -1 in this data set.** \n",
    "\n",
    "The target `mmr` vaccination rate as [recommended by the CDC](https://www.cdc.gov/mmwr/preview/mmwrhtml/mm5632a3.htm) for schools is 95%. \n",
    "\n",
    "**Calculate the fraction of schools per state that have vaccination rates greater than the CDC 95%. Capture the output as a table called `df_vacc_rates`.**\n",
    "\n",
    "You'll need to do use `filter`, `group_by`, and `summarize`. \n",
    "\n",
    "I.e.\n",
    "1. Filter out schools that don't report `mmr` vaccination rate (keep schools where `mmr >= 0`).\n",
    "1. Group the data by `state`.\n",
    "1. Summarize fracion of vaccination rates above 95%.\n",
    "\n",
    "💡Remember `n()` stands for the number or records in a group. Also, `sum(mmr >= 95, na.rm=TRUE)` will count the number of values above or equal to 95.💡"
   ]
  },
  {
   "cell_type": "code",
   "execution_count": 3,
   "id": "0ba9a861-00fc-4392-a67d-cddbd5a994e0",
   "metadata": {},
   "outputs": [
    {
     "data": {
      "text/html": [
       "<table class=\"dataframe\">\n",
       "<caption>A tibble: 21 × 2</caption>\n",
       "<thead>\n",
       "\t<tr><th scope=col>state</th><th scope=col>frac_above_95</th></tr>\n",
       "\t<tr><th scope=col>&lt;chr&gt;</th><th scope=col>&lt;dbl&gt;</th></tr>\n",
       "</thead>\n",
       "<tbody>\n",
       "\t<tr><td>Arizona      </td><td>0.496157131</td></tr>\n",
       "\t<tr><td>Arkansas     </td><td>0.003527337</td></tr>\n",
       "\t<tr><td>California   </td><td>0.730966608</td></tr>\n",
       "\t<tr><td>Colorado     </td><td>0.621101526</td></tr>\n",
       "\t<tr><td>Connecticut  </td><td>0.806451613</td></tr>\n",
       "\t<tr><td>Illinois     </td><td>0.896304970</td></tr>\n",
       "\t<tr><td>Maine        </td><td>0.459383754</td></tr>\n",
       "\t<tr><td>Massachusetts</td><td>0.816561845</td></tr>\n",
       "\t<tr><td>Minnesota    </td><td>0.467671061</td></tr>\n",
       "\t<tr><td>Missouri     </td><td>0.580000000</td></tr>\n",
       "\t<tr><td>Montana      </td><td>0.704980843</td></tr>\n",
       "\t<tr><td>New York     </td><td>0.857658091</td></tr>\n",
       "\t<tr><td>North Dakota </td><td>0.455555556</td></tr>\n",
       "\t<tr><td>Ohio         </td><td>0.483727304</td></tr>\n",
       "\t<tr><td>Oregon       </td><td>0.590570720</td></tr>\n",
       "\t<tr><td>Pennsylvania </td><td>0.824136153</td></tr>\n",
       "\t<tr><td>South Dakota </td><td>0.734584450</td></tr>\n",
       "\t<tr><td>Texas        </td><td>0.622688039</td></tr>\n",
       "\t<tr><td>Utah         </td><td>0.679933665</td></tr>\n",
       "\t<tr><td>Vermont      </td><td>0.677514793</td></tr>\n",
       "\t<tr><td>Washington   </td><td>0.317997978</td></tr>\n",
       "</tbody>\n",
       "</table>\n"
      ],
      "text/latex": [
       "A tibble: 21 × 2\n",
       "\\begin{tabular}{ll}\n",
       " state & frac\\_above\\_95\\\\\n",
       " <chr> & <dbl>\\\\\n",
       "\\hline\n",
       "\t Arizona       & 0.496157131\\\\\n",
       "\t Arkansas      & 0.003527337\\\\\n",
       "\t California    & 0.730966608\\\\\n",
       "\t Colorado      & 0.621101526\\\\\n",
       "\t Connecticut   & 0.806451613\\\\\n",
       "\t Illinois      & 0.896304970\\\\\n",
       "\t Maine         & 0.459383754\\\\\n",
       "\t Massachusetts & 0.816561845\\\\\n",
       "\t Minnesota     & 0.467671061\\\\\n",
       "\t Missouri      & 0.580000000\\\\\n",
       "\t Montana       & 0.704980843\\\\\n",
       "\t New York      & 0.857658091\\\\\n",
       "\t North Dakota  & 0.455555556\\\\\n",
       "\t Ohio          & 0.483727304\\\\\n",
       "\t Oregon        & 0.590570720\\\\\n",
       "\t Pennsylvania  & 0.824136153\\\\\n",
       "\t South Dakota  & 0.734584450\\\\\n",
       "\t Texas         & 0.622688039\\\\\n",
       "\t Utah          & 0.679933665\\\\\n",
       "\t Vermont       & 0.677514793\\\\\n",
       "\t Washington    & 0.317997978\\\\\n",
       "\\end{tabular}\n"
      ],
      "text/markdown": [
       "\n",
       "A tibble: 21 × 2\n",
       "\n",
       "| state &lt;chr&gt; | frac_above_95 &lt;dbl&gt; |\n",
       "|---|---|\n",
       "| Arizona       | 0.496157131 |\n",
       "| Arkansas      | 0.003527337 |\n",
       "| California    | 0.730966608 |\n",
       "| Colorado      | 0.621101526 |\n",
       "| Connecticut   | 0.806451613 |\n",
       "| Illinois      | 0.896304970 |\n",
       "| Maine         | 0.459383754 |\n",
       "| Massachusetts | 0.816561845 |\n",
       "| Minnesota     | 0.467671061 |\n",
       "| Missouri      | 0.580000000 |\n",
       "| Montana       | 0.704980843 |\n",
       "| New York      | 0.857658091 |\n",
       "| North Dakota  | 0.455555556 |\n",
       "| Ohio          | 0.483727304 |\n",
       "| Oregon        | 0.590570720 |\n",
       "| Pennsylvania  | 0.824136153 |\n",
       "| South Dakota  | 0.734584450 |\n",
       "| Texas         | 0.622688039 |\n",
       "| Utah          | 0.679933665 |\n",
       "| Vermont       | 0.677514793 |\n",
       "| Washington    | 0.317997978 |\n",
       "\n"
      ],
      "text/plain": [
       "   state         frac_above_95\n",
       "1  Arizona       0.496157131  \n",
       "2  Arkansas      0.003527337  \n",
       "3  California    0.730966608  \n",
       "4  Colorado      0.621101526  \n",
       "5  Connecticut   0.806451613  \n",
       "6  Illinois      0.896304970  \n",
       "7  Maine         0.459383754  \n",
       "8  Massachusetts 0.816561845  \n",
       "9  Minnesota     0.467671061  \n",
       "10 Missouri      0.580000000  \n",
       "11 Montana       0.704980843  \n",
       "12 New York      0.857658091  \n",
       "13 North Dakota  0.455555556  \n",
       "14 Ohio          0.483727304  \n",
       "15 Oregon        0.590570720  \n",
       "16 Pennsylvania  0.824136153  \n",
       "17 South Dakota  0.734584450  \n",
       "18 Texas         0.622688039  \n",
       "19 Utah          0.679933665  \n",
       "20 Vermont       0.677514793  \n",
       "21 Washington    0.317997978  "
      ]
     },
     "metadata": {},
     "output_type": "display_data"
    }
   ],
   "source": [
    "# create the df_vacc_rates here\n",
    "\n",
    "measles |> filter(mmr >= 0) |> group_by(state) |> \n",
    "    summarize(frac_above_95 = sum(mmr > 95, na.rm = TRUE) / n())\n"
   ]
  },
  {
   "cell_type": "markdown",
   "id": "900ddf7f-d801-4a70-9453-73bdd3277344",
   "metadata": {},
   "source": [
    "Which state (of those that report `mmr`) has the smallest fraction of schools above the CDC target vaccination rate of 95%?  "
   ]
  },
  {
   "cell_type": "code",
   "execution_count": 4,
   "id": "13812611-a534-46c2-aae6-0f6c645273e0",
   "metadata": {},
   "outputs": [
    {
     "data": {
      "text/html": [
       "<table class=\"dataframe\">\n",
       "<caption>A tibble: 1 × 2</caption>\n",
       "<thead>\n",
       "\t<tr><th scope=col>state</th><th scope=col>frac_above_95</th></tr>\n",
       "\t<tr><th scope=col>&lt;chr&gt;</th><th scope=col>&lt;dbl&gt;</th></tr>\n",
       "</thead>\n",
       "<tbody>\n",
       "\t<tr><td>Arkansas</td><td>0.003527337</td></tr>\n",
       "</tbody>\n",
       "</table>\n"
      ],
      "text/latex": [
       "A tibble: 1 × 2\n",
       "\\begin{tabular}{ll}\n",
       " state & frac\\_above\\_95\\\\\n",
       " <chr> & <dbl>\\\\\n",
       "\\hline\n",
       "\t Arkansas & 0.003527337\\\\\n",
       "\\end{tabular}\n"
      ],
      "text/markdown": [
       "\n",
       "A tibble: 1 × 2\n",
       "\n",
       "| state &lt;chr&gt; | frac_above_95 &lt;dbl&gt; |\n",
       "|---|---|\n",
       "| Arkansas | 0.003527337 |\n",
       "\n"
      ],
      "text/plain": [
       "  state    frac_above_95\n",
       "1 Arkansas 0.003527337  "
      ]
     },
     "metadata": {},
     "output_type": "display_data"
    }
   ],
   "source": [
    "measles |> filter(mmr >= 1) |> group_by(state) |> \n",
    "    summarize(frac_above_95 = sum(mmr > 95, na.rm = TRUE) / n()) |>\n",
    "    slice_min(order_by = frac_above_95, n=1)"
   ]
  },
  {
   "cell_type": "markdown",
   "id": "2866ca03-1f87-466e-ab0a-dd69140496e6",
   "metadata": {},
   "source": [
    "**Make a ECDF plot of the school vaccination rates in North Carolina.** Use the `overall` column which reports the \"overall\" vaccination rate at each school.\n",
    "\n",
    "❗️Remember, you can calculate the `y` value for ECDF charts using `mutate`, and `cume_dist`."
   ]
  },
  {
   "cell_type": "code",
   "execution_count": 5,
   "id": "478c5949-b5cb-4a4c-9915-6201427248c1",
   "metadata": {},
   "outputs": [
    {
     "data": {
      "text/html": [
       "<table class=\"dataframe\">\n",
       "<caption>A tibble: 6 × 17</caption>\n",
       "<thead>\n",
       "\t<tr><th scope=col>index</th><th scope=col>state</th><th scope=col>year</th><th scope=col>name</th><th scope=col>type</th><th scope=col>city</th><th scope=col>county</th><th scope=col>district</th><th scope=col>enroll</th><th scope=col>mmr</th><th scope=col>overall</th><th scope=col>xrel</th><th scope=col>xmed</th><th scope=col>xper</th><th scope=col>lat</th><th scope=col>lng</th><th scope=col>cumulative_dist</th></tr>\n",
       "\t<tr><th scope=col>&lt;dbl&gt;</th><th scope=col>&lt;chr&gt;</th><th scope=col>&lt;chr&gt;</th><th scope=col>&lt;chr&gt;</th><th scope=col>&lt;chr&gt;</th><th scope=col>&lt;chr&gt;</th><th scope=col>&lt;chr&gt;</th><th scope=col>&lt;lgl&gt;</th><th scope=col>&lt;dbl&gt;</th><th scope=col>&lt;dbl&gt;</th><th scope=col>&lt;dbl&gt;</th><th scope=col>&lt;lgl&gt;</th><th scope=col>&lt;dbl&gt;</th><th scope=col>&lt;dbl&gt;</th><th scope=col>&lt;dbl&gt;</th><th scope=col>&lt;dbl&gt;</th><th scope=col>&lt;dbl&gt;</th></tr>\n",
       "</thead>\n",
       "<tbody>\n",
       "\t<tr><td>1</td><td>North Carolina</td><td>2018-19</td><td>A T Allen Elementary                 </td><td>NA</td><td>NA</td><td>Cabarrus</td><td>NA</td><td>132</td><td>-1</td><td>100</td><td>NA</td><td>NA</td><td>NA</td><td>35.36238</td><td>-80.51297</td><td>1</td></tr>\n",
       "\t<tr><td>2</td><td>North Carolina</td><td>2018-19</td><td>A.C.E. Academy                       </td><td>NA</td><td>NA</td><td>Cabarrus</td><td>NA</td><td> 44</td><td>-1</td><td>100</td><td>NA</td><td>NA</td><td>NA</td><td>35.30806</td><td>-80.67281</td><td>1</td></tr>\n",
       "\t<tr><td>3</td><td>North Carolina</td><td>2018-19</td><td>ABC of NC Child Develop. Ctr         </td><td>NA</td><td>NA</td><td>Davidson</td><td>NA</td><td>  1</td><td>-1</td><td>100</td><td>NA</td><td>NA</td><td>NA</td><td>35.99481</td><td>-80.27403</td><td>1</td></tr>\n",
       "\t<tr><td>4</td><td>North Carolina</td><td>2018-19</td><td>Agape Christian                      </td><td>NA</td><td>NA</td><td>Ashe    </td><td>NA</td><td>  3</td><td>-1</td><td>100</td><td>NA</td><td>NA</td><td>NA</td><td>36.42064</td><td>-81.48704</td><td>1</td></tr>\n",
       "\t<tr><td>5</td><td>North Carolina</td><td>2018-19</td><td>Agape International Christian Academy</td><td>NA</td><td>NA</td><td>Franklin</td><td>NA</td><td>  1</td><td>-1</td><td>100</td><td>NA</td><td>NA</td><td>NA</td><td>36.03484</td><td>-78.49820</td><td>1</td></tr>\n",
       "\t<tr><td>6</td><td>North Carolina</td><td>2018-19</td><td>Ahoskie Christian                    </td><td>NA</td><td>NA</td><td>Hertford</td><td>NA</td><td> 32</td><td>-1</td><td>100</td><td>NA</td><td>NA</td><td>NA</td><td>36.27857</td><td>-76.97674</td><td>1</td></tr>\n",
       "</tbody>\n",
       "</table>\n"
      ],
      "text/latex": [
       "A tibble: 6 × 17\n",
       "\\begin{tabular}{lllllllllllllllll}\n",
       " index & state & year & name & type & city & county & district & enroll & mmr & overall & xrel & xmed & xper & lat & lng & cumulative\\_dist\\\\\n",
       " <dbl> & <chr> & <chr> & <chr> & <chr> & <chr> & <chr> & <lgl> & <dbl> & <dbl> & <dbl> & <lgl> & <dbl> & <dbl> & <dbl> & <dbl> & <dbl>\\\\\n",
       "\\hline\n",
       "\t 1 & North Carolina & 2018-19 & A T Allen Elementary                  & NA & NA & Cabarrus & NA & 132 & -1 & 100 & NA & NA & NA & 35.36238 & -80.51297 & 1\\\\\n",
       "\t 2 & North Carolina & 2018-19 & A.C.E. Academy                        & NA & NA & Cabarrus & NA &  44 & -1 & 100 & NA & NA & NA & 35.30806 & -80.67281 & 1\\\\\n",
       "\t 3 & North Carolina & 2018-19 & ABC of NC Child Develop. Ctr          & NA & NA & Davidson & NA &   1 & -1 & 100 & NA & NA & NA & 35.99481 & -80.27403 & 1\\\\\n",
       "\t 4 & North Carolina & 2018-19 & Agape Christian                       & NA & NA & Ashe     & NA &   3 & -1 & 100 & NA & NA & NA & 36.42064 & -81.48704 & 1\\\\\n",
       "\t 5 & North Carolina & 2018-19 & Agape International Christian Academy & NA & NA & Franklin & NA &   1 & -1 & 100 & NA & NA & NA & 36.03484 & -78.49820 & 1\\\\\n",
       "\t 6 & North Carolina & 2018-19 & Ahoskie Christian                     & NA & NA & Hertford & NA &  32 & -1 & 100 & NA & NA & NA & 36.27857 & -76.97674 & 1\\\\\n",
       "\\end{tabular}\n"
      ],
      "text/markdown": [
       "\n",
       "A tibble: 6 × 17\n",
       "\n",
       "| index &lt;dbl&gt; | state &lt;chr&gt; | year &lt;chr&gt; | name &lt;chr&gt; | type &lt;chr&gt; | city &lt;chr&gt; | county &lt;chr&gt; | district &lt;lgl&gt; | enroll &lt;dbl&gt; | mmr &lt;dbl&gt; | overall &lt;dbl&gt; | xrel &lt;lgl&gt; | xmed &lt;dbl&gt; | xper &lt;dbl&gt; | lat &lt;dbl&gt; | lng &lt;dbl&gt; | cumulative_dist &lt;dbl&gt; |\n",
       "|---|---|---|---|---|---|---|---|---|---|---|---|---|---|---|---|---|\n",
       "| 1 | North Carolina | 2018-19 | A T Allen Elementary                  | NA | NA | Cabarrus | NA | 132 | -1 | 100 | NA | NA | NA | 35.36238 | -80.51297 | 1 |\n",
       "| 2 | North Carolina | 2018-19 | A.C.E. Academy                        | NA | NA | Cabarrus | NA |  44 | -1 | 100 | NA | NA | NA | 35.30806 | -80.67281 | 1 |\n",
       "| 3 | North Carolina | 2018-19 | ABC of NC Child Develop. Ctr          | NA | NA | Davidson | NA |   1 | -1 | 100 | NA | NA | NA | 35.99481 | -80.27403 | 1 |\n",
       "| 4 | North Carolina | 2018-19 | Agape Christian                       | NA | NA | Ashe     | NA |   3 | -1 | 100 | NA | NA | NA | 36.42064 | -81.48704 | 1 |\n",
       "| 5 | North Carolina | 2018-19 | Agape International Christian Academy | NA | NA | Franklin | NA |   1 | -1 | 100 | NA | NA | NA | 36.03484 | -78.49820 | 1 |\n",
       "| 6 | North Carolina | 2018-19 | Ahoskie Christian                     | NA | NA | Hertford | NA |  32 | -1 | 100 | NA | NA | NA | 36.27857 | -76.97674 | 1 |\n",
       "\n"
      ],
      "text/plain": [
       "  index state          year    name                                  type city\n",
       "1 1     North Carolina 2018-19 A T Allen Elementary                  NA   NA  \n",
       "2 2     North Carolina 2018-19 A.C.E. Academy                        NA   NA  \n",
       "3 3     North Carolina 2018-19 ABC of NC Child Develop. Ctr          NA   NA  \n",
       "4 4     North Carolina 2018-19 Agape Christian                       NA   NA  \n",
       "5 5     North Carolina 2018-19 Agape International Christian Academy NA   NA  \n",
       "6 6     North Carolina 2018-19 Ahoskie Christian                     NA   NA  \n",
       "  county   district enroll mmr overall xrel xmed xper lat      lng      \n",
       "1 Cabarrus NA       132    -1  100     NA   NA   NA   35.36238 -80.51297\n",
       "2 Cabarrus NA        44    -1  100     NA   NA   NA   35.30806 -80.67281\n",
       "3 Davidson NA         1    -1  100     NA   NA   NA   35.99481 -80.27403\n",
       "4 Ashe     NA         3    -1  100     NA   NA   NA   36.42064 -81.48704\n",
       "5 Franklin NA         1    -1  100     NA   NA   NA   36.03484 -78.49820\n",
       "6 Hertford NA        32    -1  100     NA   NA   NA   36.27857 -76.97674\n",
       "  cumulative_dist\n",
       "1 1              \n",
       "2 1              \n",
       "3 1              \n",
       "4 1              \n",
       "5 1              \n",
       "6 1              "
      ]
     },
     "metadata": {},
     "output_type": "display_data"
    }
   ],
   "source": [
    "ecdf = measles %>% filter(state== \"North Carolina\") %>%\n",
    "    mutate(cumulative_dist = cume_dist(overall))\n",
    "ecdf |> head()"
   ]
  },
  {
   "cell_type": "code",
   "execution_count": 6,
   "id": "b6f6adb6-06a4-4409-a10c-9dfa55c601cb",
   "metadata": {
    "tags": []
   },
   "outputs": [],
   "source": [
    "library(ggrepel)"
   ]
  },
  {
   "cell_type": "code",
   "execution_count": 7,
   "id": "373d243a-9179-46a7-bd8d-6c5c16c1cf15",
   "metadata": {
    "tags": []
   },
   "outputs": [
    {
     "name": "stderr",
     "output_type": "stream",
     "text": [
      "Warning message in geom_curve(aes(x = 0.89, y = 0.65, xend = 0.94, yend = 0.65), :\n",
      "“\u001b[1m\u001b[22mAll aesthetics have length 1, but the data has 2085 rows.\n",
      "\u001b[36mℹ\u001b[39m Please consider using `annotate()` or provide this layer with data containing\n",
      "  a single row.”\n",
      "Warning message in geom_text(aes(x = 0.77, y = 0.75, label = \"\\nCDC Recommended \\nVaccination Rate \\n(95%)\"), :\n",
      "“\u001b[1m\u001b[22mAll aesthetics have length 1, but the data has 2085 rows.\n",
      "\u001b[36mℹ\u001b[39m Please consider using `annotate()` or provide this layer with data containing\n",
      "  a single row.”\n"
     ]
    },
    {
     "data": {
      "image/png": "[encoded data removed]",
      "text/plain": [
       "plot without title"
      ]
     },
     "metadata": {
      "image/png": {
       "height": 625,
       "width": 750
      }
     },
     "output_type": "display_data"
    }
   ],
   "source": [
    "options(repr.plot.width = 6, repr.plot.height = 5)\n",
    "\n",
    "ggplot(ecdf, aes(x= overall/100, y= cumulative_dist)) + \n",
    "    geom_point(color=\"blue4\") + geom_line(color=\"blue4\") +\n",
    "    labs( x= 'Vaccination Rate (%)', y= 'Fraction of schools') +\n",
    "    scale_x_continuous(labels = scales::percent) +\n",
    "    geom_vline(xintercept = .95, linetype = \"dashed\", color = \"deepskyblue3\") +\n",
    "    theme_minimal() +\n",
    "    geom_curve(aes(x = .89, y = .65, xend = .94, yend = 0.65), \n",
    "             curvature = 0.2,  # Adjust this value for more or less curve\n",
    "             arrow = arrow(length = unit(.07, \"inches\")), \n",
    "             color = \"gray40\") + \n",
    "    geom_text(aes(x=0.77, y=0.75, label=\"\\nCDC Recommended \\nVaccination Rate \\n(95%)\"), color= \"gray40\")\n",
    "    "
   ]
  },
  {
   "cell_type": "markdown",
   "id": "8f5ea83f-c904-46ee-9f52-af1bd1afbc96",
   "metadata": {},
   "source": [
    "(My solution is below if you want to peek 👀. Uncomment the code, change the cell to `markdown`, and exectute it. I used `geom_text_repel` from [ggrepel](https://cran.r-project.org/web/packages/ggrepel/vignettes/ggrepel.html) fo the annotation.)"
   ]
  },
  {
   "cell_type": "markdown",
   "id": "a12759b8-16d3-4075-9de6-2d6a37171900",
   "metadata": {},
   "source": [
    "![](https://github.com/chuckpr/BIOS512/blob/main/assignments/2023/measles-chart.png?raw=true)"
   ]
  },
  {
   "cell_type": "markdown",
   "id": "d2041941-dcee-42e8-957f-a725dc36388f",
   "metadata": {},
   "source": [
    "Is the median vaccination rate for NC schools above the CDC recommended target?"
   ]
  },
  {
   "cell_type": "code",
   "execution_count": 8,
   "id": "be2ea536-f8ed-486d-b6e3-9853ac2b01d0",
   "metadata": {},
   "outputs": [
    {
     "data": {
      "text/html": [
       "<table class=\"dataframe\">\n",
       "<caption>A tibble: 1 × 1</caption>\n",
       "<thead>\n",
       "\t<tr><th scope=col>med</th></tr>\n",
       "\t<tr><th scope=col>&lt;dbl&gt;</th></tr>\n",
       "</thead>\n",
       "<tbody>\n",
       "\t<tr><td>100</td></tr>\n",
       "</tbody>\n",
       "</table>\n"
      ],
      "text/latex": [
       "A tibble: 1 × 1\n",
       "\\begin{tabular}{l}\n",
       " med\\\\\n",
       " <dbl>\\\\\n",
       "\\hline\n",
       "\t 100\\\\\n",
       "\\end{tabular}\n"
      ],
      "text/markdown": [
       "\n",
       "A tibble: 1 × 1\n",
       "\n",
       "| med &lt;dbl&gt; |\n",
       "|---|\n",
       "| 100 |\n",
       "\n"
      ],
      "text/plain": [
       "  med\n",
       "1 100"
      ]
     },
     "metadata": {},
     "output_type": "display_data"
    }
   ],
   "source": [
    "measles |> filter(state== \"North Carolina\") |> \n",
    "    summarize(med = median(overall))"
   ]
  },
  {
   "cell_type": "markdown",
   "id": "ecd018d9-e469-497e-a24b-3698811e452b",
   "metadata": {},
   "source": [
    "Yes, the median vaccination rate for NC schools (100%) is above the CDC recommended target (95%). "
   ]
  },
  {
   "cell_type": "code",
   "execution_count": null,
   "id": "665c173d-3e48-4e93-bbb8-ca7eaacc558e",
   "metadata": {},
   "outputs": [],
   "source": []
  }
 ],
 "metadata": {
  "kernelspec": {
   "display_name": ".conda-bios512:R",
   "language": "R",
   "name": "conda-env-.conda-bios512-r"
  },
  "language_info": {
   "codemirror_mode": "r",
   "file_extension": ".r",
   "mimetype": "text/x-r-source",
   "name": "R",
   "pygments_lexer": "r",
   "version": "4.4.1"
  }
 },
 "nbformat": 4,
 "nbformat_minor": 5
}
